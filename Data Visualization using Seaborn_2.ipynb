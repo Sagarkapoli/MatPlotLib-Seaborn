{
 "cells": [
  {
   "cell_type": "markdown",
   "metadata": {
    "id": "07EahRODEZMX"
   },
   "source": [
    "# Data Visulaization using Seaborn."
   ]
  },
  {
   "cell_type": "markdown",
   "metadata": {
    "id": "fCpcHyi6aIOG"
   },
   "source": [
    "Seaborn is a library that uses Matplotlib underneath to plot graphs. \n",
    "It will be used to visualize random distributions."
   ]
  },
  {
   "cell_type": "code",
   "execution_count": null,
   "metadata": {
    "executionInfo": {
     "elapsed": 1236,
     "status": "ok",
     "timestamp": 1647180252866,
     "user": {
      "displayName": "Shubhangi Sakarkar",
      "photoUrl": "https://lh3.googleusercontent.com/a-/AOh14GjiJriRrUWKSeoxmYnVoL2uz2i6E3RLOwZgeqHG=s64",
      "userId": "12180749557274197061"
     },
     "user_tz": -330
    },
    "id": "Izcq-lAeaN7B"
   },
   "outputs": [],
   "source": [
    "# importing the required libraries\n",
    "import matplotlib.pyplot as plt\n",
    "import seaborn as sns\n",
    "import pandas as pd\n",
    "import numpy as np"
   ]
  },
  {
   "cell_type": "code",
   "execution_count": null,
   "metadata": {
    "colab": {
     "base_uri": "https://localhost:8080/"
    },
    "executionInfo": {
     "elapsed": 969,
     "status": "ok",
     "timestamp": 1647184352449,
     "user": {
      "displayName": "Shubhangi Sakarkar",
      "photoUrl": "https://lh3.googleusercontent.com/a-/AOh14GjiJriRrUWKSeoxmYnVoL2uz2i6E3RLOwZgeqHG=s64",
      "userId": "12180749557274197061"
     },
     "user_tz": -330
    },
    "id": "lWkM6Tm4EZMi",
    "outputId": "71d845ca-4f74-4e41-8073-4b89eeb208aa"
   },
   "outputs": [],
   "source": [
    "# getting the builtin datasets of seaborn.\n",
    "sns.get_dataset_names()"
   ]
  },
  {
   "cell_type": "code",
   "execution_count": null,
   "metadata": {
    "executionInfo": {
     "elapsed": 341,
     "status": "ok",
     "timestamp": 1647180580851,
     "user": {
      "displayName": "Shubhangi Sakarkar",
      "photoUrl": "https://lh3.googleusercontent.com/a-/AOh14GjiJriRrUWKSeoxmYnVoL2uz2i6E3RLOwZgeqHG=s64",
      "userId": "12180749557274197061"
     },
     "user_tz": -330
    },
    "id": "5WkzYH0Zbiyb"
   },
   "outputs": [],
   "source": [
    "\n",
    "# loading dataset \n",
    "df= sns.load_dataset(\"iris\")"
   ]
  },
  {
   "cell_type": "code",
   "execution_count": null,
   "metadata": {
    "colab": {
     "base_uri": "https://localhost:8080/",
     "height": 423
    },
    "executionInfo": {
     "elapsed": 368,
     "status": "ok",
     "timestamp": 1647181020509,
     "user": {
      "displayName": "Shubhangi Sakarkar",
      "photoUrl": "https://lh3.googleusercontent.com/a-/AOh14GjiJriRrUWKSeoxmYnVoL2uz2i6E3RLOwZgeqHG=s64",
      "userId": "12180749557274197061"
     },
     "user_tz": -330
    },
    "id": "clIQo4StFXcm",
    "outputId": "f0265a9e-b7c3-4567-f04c-6dd714709477"
   },
   "outputs": [],
   "source": [
    "df # SL,SW,PL,PW are the characteristics/features of Iris flower"
   ]
  },
  {
   "cell_type": "code",
   "execution_count": null,
   "metadata": {
    "colab": {
     "base_uri": "https://localhost:8080/"
    },
    "executionInfo": {
     "elapsed": 5,
     "status": "ok",
     "timestamp": 1647180977652,
     "user": {
      "displayName": "Shubhangi Sakarkar",
      "photoUrl": "https://lh3.googleusercontent.com/a-/AOh14GjiJriRrUWKSeoxmYnVoL2uz2i6E3RLOwZgeqHG=s64",
      "userId": "12180749557274197061"
     },
     "user_tz": -330
    },
    "id": "PSwRgKsqorGt",
    "outputId": "04197d02-7a57-43eb-ab63-46d04bcc78c4"
   },
   "outputs": [],
   "source": [
    "df.species.value_counts()"
   ]
  },
  {
   "cell_type": "code",
   "execution_count": null,
   "metadata": {
    "id": "mSU4Q7bOdZn5"
   },
   "outputs": [],
   "source": [
    "### Line plot \n",
    "sns.lineplot(x='sepal_length',y='sepal_width',data=df,hue='species') #, ', data=df,hue='species')\n",
    "plt.show()"
   ]
  },
  {
   "cell_type": "code",
   "execution_count": null,
   "metadata": {
    "id": "iF2EyqT9tpux"
   },
   "outputs": [],
   "source": [
    "sns.lineplot(x='sepal_length', y='species', data=df)\n",
    "plt.show()"
   ]
  },
  {
   "cell_type": "markdown",
   "metadata": {
    "id": "HxH7lUjZgQzS"
   },
   "source": [
    "Most of virginic has sepal length greater than 7 units.\n",
    "Versicolor can be found in range 5.5 units to 7 units\n",
    "Setosa can be found in 4.3 to 5.5 units\n",
    "If sepal length of flower is greater than 4.3 units than only \n",
    "flower can be iris flower."
   ]
  },
  {
   "cell_type": "code",
   "execution_count": null,
   "metadata": {
    "colab": {
     "base_uri": "https://localhost:8080/",
     "height": 283
    },
    "executionInfo": {
     "elapsed": 1330,
     "status": "ok",
     "timestamp": 1647182081901,
     "user": {
      "displayName": "Shubhangi Sakarkar",
      "photoUrl": "https://lh3.googleusercontent.com/a-/AOh14GjiJriRrUWKSeoxmYnVoL2uz2i6E3RLOwZgeqHG=s64",
      "userId": "12180749557274197061"
     },
     "user_tz": -330
    },
    "id": "Hu7j4aTMdI1w",
    "outputId": "f8430c06-a96c-442b-809d-203a29f95ad4"
   },
   "outputs": [],
   "source": [
    "## Scatter plot\n",
    "sns.scatterplot(x='sepal_length',y='sepal_width',data=df,hue='species')\n",
    "plt.show()"
   ]
  },
  {
   "cell_type": "markdown",
   "metadata": {
    "id": "e_cuii4BhiKw"
   },
   "source": [
    "with repect  to each class sepal width and sepal lenght both cannot separate all classes."
   ]
  },
  {
   "cell_type": "code",
   "execution_count": null,
   "metadata": {
    "colab": {
     "base_uri": "https://localhost:8080/",
     "height": 279
    },
    "executionInfo": {
     "elapsed": 986,
     "status": "ok",
     "timestamp": 1647182804429,
     "user": {
      "displayName": "Shubhangi Sakarkar",
      "photoUrl": "https://lh3.googleusercontent.com/a-/AOh14GjiJriRrUWKSeoxmYnVoL2uz2i6E3RLOwZgeqHG=s64",
      "userId": "12180749557274197061"
     },
     "user_tz": -330
    },
    "id": "PAw77lpodmf8",
    "outputId": "e416f755-319e-4426-b845-7769d91a6fde"
   },
   "outputs": [],
   "source": [
    "## Bar plot\n",
    "##A barplot is basically used to aggregate the categorical data \n",
    "#according to some methods and by default its the mean. \n",
    "##It can also be understood as a visualization of the group by action. \n",
    "#To use this plot we choose a categorical column for \n",
    "##the x axis and a numerical column for the y axis and we see that it \n",
    "# creates a plot taking a mean per categorical column. \n",
    "\n",
    "sns.barplot(x='species',y='petal_length', data=df)\n",
    "plt.show()"
   ]
  },
  {
   "cell_type": "code",
   "execution_count": null,
   "metadata": {
    "colab": {
     "base_uri": "https://localhost:8080/",
     "height": 279
    },
    "executionInfo": {
     "elapsed": 393,
     "status": "ok",
     "timestamp": 1647182874769,
     "user": {
      "displayName": "Shubhangi Sakarkar",
      "photoUrl": "https://lh3.googleusercontent.com/a-/AOh14GjiJriRrUWKSeoxmYnVoL2uz2i6E3RLOwZgeqHG=s64",
      "userId": "12180749557274197061"
     },
     "user_tz": -330
    },
    "id": "rHG4XA-Fer18",
    "outputId": "c26f15a5-0040-450a-e6ca-645fc0d1ad1a"
   },
   "outputs": [],
   "source": [
    "## Count Plot\n",
    "##A countplot basically counts the categories and returns a \n",
    "# count of their occurrences. \n",
    "sns.countplot(x='species', data=df)\n",
    "plt.show()"
   ]
  },
  {
   "cell_type": "code",
   "execution_count": null,
   "metadata": {
    "id": "JGBzCKatEZM0"
   },
   "outputs": [],
   "source": [
    "sns.catplot(x='species',data=df)\n",
    "plt.show()"
   ]
  },
  {
   "cell_type": "code",
   "execution_count": null,
   "metadata": {
    "colab": {
     "base_uri": "https://localhost:8080/",
     "height": 369
    },
    "executionInfo": {
     "elapsed": 411,
     "status": "ok",
     "timestamp": 1647183032371,
     "user": {
      "displayName": "Shubhangi Sakarkar",
      "photoUrl": "https://lh3.googleusercontent.com/a-/AOh14GjiJriRrUWKSeoxmYnVoL2uz2i6E3RLOwZgeqHG=s64",
      "userId": "12180749557274197061"
     },
     "user_tz": -330
    },
    "id": "KpykkuLBEZM2",
    "outputId": "de083bf2-62f3-4172-9de6-5f0645067e83"
   },
   "outputs": [],
   "source": [
    "sns.catplot(x='petal_length',y='species',data=df)\n",
    "plt.show()"
   ]
  },
  {
   "cell_type": "code",
   "execution_count": null,
   "metadata": {
    "id": "bE2AIVUOEZM3",
    "outputId": "74d3515d-e276-47b5-a751-d74ad9669ae4"
   },
   "outputs": [],
   "source": [
    "df"
   ]
  },
  {
   "cell_type": "code",
   "execution_count": null,
   "metadata": {
    "id": "jR_eScWAe851"
   },
   "outputs": [],
   "source": [
    "## Box plot\n",
    "##A boxplot is sometimes known as the box and whisker plot.It shows the \n",
    "#distribution of the quantitative data \n",
    "## that represents the comparisons between variables. boxplot shows the \n",
    "#quartiles of the dataset while the whiskers extend to\n",
    "## show the rest of the distribution i.e. the dots indicating the \n",
    "#presence  of outliers.\n",
    "sns.boxplot(x='sepal_width',data=df)\n",
    "plt.show()"
   ]
  },
  {
   "cell_type": "code",
   "execution_count": null,
   "metadata": {
    "id": "Ic_qXk1GfC9W"
   },
   "outputs": [],
   "source": [
    "sns.boxplot(x='species', y='sepal_width', data=df)\n",
    "plt.show()\n",
    "# Checking outliers in each category with respect to sepal width."
   ]
  },
  {
   "cell_type": "code",
   "execution_count": null,
   "metadata": {
    "colab": {
     "base_uri": "https://localhost:8080/",
     "height": 279
    },
    "executionInfo": {
     "elapsed": 473,
     "status": "ok",
     "timestamp": 1647183541130,
     "user": {
      "displayName": "Shubhangi Sakarkar",
      "photoUrl": "https://lh3.googleusercontent.com/a-/AOh14GjiJriRrUWKSeoxmYnVoL2uz2i6E3RLOwZgeqHG=s64",
      "userId": "12180749557274197061"
     },
     "user_tz": -330
    },
    "id": "PUMyYYrufk8O",
    "outputId": "d0487545-323c-4116-d3d2-27b5d4809ab5"
   },
   "outputs": [],
   "source": [
    "## Violinplot\n",
    "## It is similar to the boxplot except that it provides a higher,\n",
    "## more advanced visualization and uses the kernel \n",
    "##density estimation to give a better description about the \n",
    "## data distribution.\n",
    "\n",
    "sns.violinplot(x='species', y='sepal_width', data=df)\n",
    "plt.show()"
   ]
  },
  {
   "cell_type": "code",
   "execution_count": null,
   "metadata": {
    "id": "40ZaWwZuf2Ga"
   },
   "outputs": [],
   "source": [
    "##Stripplot\n",
    "## It basically creates a scatter plot based on the category. \n",
    "# It is created using the stripplot()\n",
    "sns.stripplot(x='species', y='petal_width', data=df)\n",
    "plt.show()"
   ]
  },
  {
   "cell_type": "code",
   "execution_count": null,
   "metadata": {
    "colab": {
     "base_uri": "https://localhost:8080/",
     "height": 280
    },
    "executionInfo": {
     "elapsed": 1060,
     "status": "ok",
     "timestamp": 1619262328078,
     "user": {
      "displayName": "Shubhangi Sakarkar",
      "photoUrl": "https://lh3.googleusercontent.com/a-/AOh14GjiJriRrUWKSeoxmYnVoL2uz2i6E3RLOwZgeqHG=s64",
      "userId": "12180749557274197061"
     },
     "user_tz": -330
    },
    "id": "H1T-GSaIf64H",
    "outputId": "ccacc1a0-0e1e-4f7b-bcf2-e2bf2ea0746a"
   },
   "outputs": [],
   "source": [
    "## Histogram\n",
    "## A histogram is basically used to represent data provided in a form of \n",
    "# some groups.\n",
    "## It is accurate method for the graphical representation of numerical data \n",
    "## distribution\n",
    "sns.histplot(x='petal_width', data=df)\n",
    "plt.show()"
   ]
  },
  {
   "cell_type": "code",
   "execution_count": null,
   "metadata": {
    "colab": {
     "base_uri": "https://localhost:8080/",
     "height": 284
    },
    "executionInfo": {
     "elapsed": 1272,
     "status": "ok",
     "timestamp": 1647183815407,
     "user": {
      "displayName": "Shubhangi Sakarkar",
      "photoUrl": "https://lh3.googleusercontent.com/a-/AOh14GjiJriRrUWKSeoxmYnVoL2uz2i6E3RLOwZgeqHG=s64",
      "userId": "12180749557274197061"
     },
     "user_tz": -330
    },
    "id": "5YWE9Mw3jn5A",
    "outputId": "c7577462-c7f9-42ca-abac-a86ebb2ee3bc"
   },
   "outputs": [],
   "source": [
    "sns.histplot(x='petal_width',data=df,hue='species',kde=True)\n",
    "plt.show()\n",
    "#kde is approximation of histogram to density curve."
   ]
  },
  {
   "cell_type": "code",
   "execution_count": null,
   "metadata": {
    "colab": {
     "base_uri": "https://localhost:8080/",
     "height": 335
    },
    "executionInfo": {
     "elapsed": 414,
     "status": "ok",
     "timestamp": 1647183969989,
     "user": {
      "displayName": "Shubhangi Sakarkar",
      "photoUrl": "https://lh3.googleusercontent.com/a-/AOh14GjiJriRrUWKSeoxmYnVoL2uz2i6E3RLOwZgeqHG=s64",
      "userId": "12180749557274197061"
     },
     "user_tz": -330
    },
    "id": "YLA09nuHj76n",
    "outputId": "df869907-1c03-46a2-d1c5-951a2ecaa653"
   },
   "outputs": [],
   "source": [
    "## Distplot\n",
    "## Distplot is used basically for univariant set of observations\n",
    "# and visualizes it through a histogram \n",
    "## i.e. only one observation and hence we choose one particular \n",
    "#column of the dataset\n",
    "sns.distplot(df['petal_width'],hist=True,color=\"r\")\n",
    "plt.show()\n",
    "## density means the probability of given point to lie on the curve."
   ]
  },
  {
   "cell_type": "code",
   "execution_count": null,
   "metadata": {
    "id": "6blyLAFakU-H"
   },
   "outputs": [],
   "source": [
    "##Pairplot\n",
    "##Pairplot represents pairwise relation across the entire dataframe and supports an \n",
    "\n",
    "## additional  argument called hue for categorical separation. \n",
    "#What it does basically is create a jointplot between every possible numerical \n",
    "##column and takes a while if the dataframe is really huge\n",
    "\n",
    "sns.pairplot(data=df,hue='species')\n",
    "plt.show()"
   ]
  },
  {
   "cell_type": "code",
   "execution_count": null,
   "metadata": {
    "colab": {
     "base_uri": "https://localhost:8080/",
     "height": 270
    },
    "executionInfo": {
     "elapsed": 1277,
     "status": "ok",
     "timestamp": 1647184179840,
     "user": {
      "displayName": "Shubhangi Sakarkar",
      "photoUrl": "https://lh3.googleusercontent.com/a-/AOh14GjiJriRrUWKSeoxmYnVoL2uz2i6E3RLOwZgeqHG=s64",
      "userId": "12180749557274197061"
     },
     "user_tz": -330
    },
    "id": "tun_ENvmlQr8",
    "outputId": "f0f869b6-646c-4136-b93c-1bb7d6aeb535"
   },
   "outputs": [],
   "source": [
    "##Heat map\n",
    "## Heatmap is defined as a graphical representation of data using colors to visualize the value of the matrix.\n",
    "## In this, to represent more common values or higher activities brighter colors basically reddish colors are used and \n",
    "## to represent less common or activity values, darker colors are preferred\n",
    "\n",
    "# correlation between the different parameters \n",
    "tc = df.corr()\n",
    "  \n",
    "sns.heatmap(tc,annot=True)\n",
    "plt.show()"
   ]
  },
  {
   "cell_type": "code",
   "execution_count": null,
   "metadata": {
    "id": "oY7DzHmclpLO"
   },
   "outputs": [],
   "source": [
    "##Explore data = sns.load_dataset(\"tips\")"
   ]
  },
  {
   "cell_type": "markdown",
   "metadata": {
    "id": "2x1GXNjk1glt"
   },
   "source": [
    "## Task \n",
    "\n",
    "Do complete analysis on seaborn preloaded dataset of your choice."
   ]
  }
 ],
 "metadata": {
  "colab": {
   "collapsed_sections": [],
   "name": "Data Visualization using Seaborn_2.ipynb",
   "provenance": []
  },
  "kernelspec": {
   "display_name": "Python 3 (ipykernel)",
   "language": "python",
   "name": "python3"
  },
  "language_info": {
   "codemirror_mode": {
    "name": "ipython",
    "version": 3
   },
   "file_extension": ".py",
   "mimetype": "text/x-python",
   "name": "python",
   "nbconvert_exporter": "python",
   "pygments_lexer": "ipython3",
   "version": "3.9.7"
  }
 },
 "nbformat": 4,
 "nbformat_minor": 1
}
